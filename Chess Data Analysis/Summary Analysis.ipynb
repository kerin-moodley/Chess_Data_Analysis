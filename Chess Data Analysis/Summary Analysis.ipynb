{
 "cells": [
  {
   "cell_type": "markdown",
   "metadata": {},
   "source": [
    "### Measures of Location\n",
    "The chess platform data reveals that both white and black players have an average Elo rating around 1611, with white players showing a slight advantage in median ratings and game outcomes, likely due to the first-move benefit. While the average playtime is significantly higher for white players, the median and percentile distributions suggest similar levels of engagement and experience across both groups. The most common Elo rating is 1500, indicating a prevalence of beginner players, and the majority of games conclude normally, with white players more frequently emerging victorious.\n",
    "\n",
    "### Measures of Variability\n",
    "The variability in chess player data shows a broad range of Elo ratings, with both white and black players experiencing substantial changes post-game. The Interquartile Range suggests a consistent level of mid-range player engagement, while the variance points to a similar spread in skill levels across players. The Coefficient of Variation indicates that black players’ ratings are slightly more uniform compared to white players, reflecting a dynamic and diverse player base with varying degrees of consistency in their performance.\n",
    "\n",
    "### Measures of Distribution\n",
    "Chess player Elo ratings follow a normal distribution, with most players experiencing minor changes in rating after games. This stability is reflected in the bell-shaped curve where the majority of data points fall close to the average. The extreme z-scores suggest rare instances of significant rating gains or losses. While the data for white and black chess piece players show similar trends, they likely represent separate distributions, meaning a player's White Elo rating doesn't necessarily predict their Black Elo rating.\n",
    "\n",
    "### Exploratory Data Analysis\n",
    "The data suggests a positive correlation between a player’s white Elo rating and the change in their Elo rating after a game, with higher-rated players generally experiencing more favorable Elo point exchanges. Conversely, there’s no evident link between a player’s Elo rating and their total playtime, indicating that time spent on the platform doesn’t strongly correlate with chess skill. Additionally, while most players’ ratings remain stable post-game, some variability exists, particularly among lower-rated players, whereas higher-rated players tend to have more consistent ratings.\n",
    "\n",
    "### Other Analysis\n",
    "The Queen’s Pawn Game: Accelerated London System is both the most popular and most common opening, used by 2,687 players, representing 2.14% of the total."
   ]
  }
 ],
 "metadata": {
  "language_info": {
   "name": "python"
  }
 },
 "nbformat": 4,
 "nbformat_minor": 2
}
